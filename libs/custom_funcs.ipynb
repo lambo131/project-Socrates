{
 "cells": [
  {
   "cell_type": "markdown",
   "metadata": {},
   "source": []
  },
  {
   "cell_type": "markdown",
   "metadata": {},
   "source": [
    "prints any string as a block with (n number) of words max per line "
   ]
  },
  {
   "cell_type": "code",
   "execution_count": null,
   "metadata": {},
   "outputs": [],
   "source": [
    "def print_str_as_blocks(str, char_limit=70) -> str:\n",
    "    str_split = str.split(\" \")\n",
    "    line = \"\"\n",
    "    block = \"\"\n",
    "    lines = []\n",
    "    for i, str in enumerate(str_split):\n",
    "        line += str\n",
    "        if len(line) > char_limit:\n",
    "            line += \"\\n\"\n",
    "            block += line\n",
    "            line = \"\"\n",
    "        else:\n",
    "            line += \" \"\n",
    "        if i == len(str_split)-1:\n",
    "            block+=line\n",
    "        if \"\\n\" in str:\n",
    "            block += line\n",
    "            line = \"\"\n",
    "    print(block)"
   ]
  },
  {
   "cell_type": "code",
   "execution_count": null,
   "metadata": {},
   "outputs": [],
   "source": [
    "def remove_extra_lines(str):\n",
    "    temp = \"\"\n",
    "    repeat_nline = False\n",
    "    for i in str:\n",
    "        if i == \"\\n\":\n",
    "            if not repeat_nline:\n",
    "                repeat_nline = True\n",
    "                temp += i\n",
    "            else:\n",
    "                continue\n",
    "        else:\n",
    "            if i != \" \":\n",
    "                repeat_nline = False\n",
    "            temp += i\n",
    "            continue\n",
    "    return temp"
   ]
  }
 ],
 "metadata": {
  "language_info": {
   "name": "python"
  },
  "orig_nbformat": 4
 },
 "nbformat": 4,
 "nbformat_minor": 2
}
