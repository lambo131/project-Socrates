{
 "cells": [
  {
   "cell_type": "code",
   "execution_count": 18,
   "metadata": {},
   "outputs": [],
   "source": [
    "from langchain.document_loaders import WebBaseLoader\n",
    "\n",
    "import sys\n",
    "sys.path.insert(0, \"D:\\Programming\\Jupyter Notebook\\LangChain\\news_fetcher\\libs\")\n",
    "import CustomFunctions as cf\n",
    "# use this to print str as blocks:   cf.print_str_as_blocks()"
   ]
  },
  {
   "cell_type": "code",
   "execution_count": 17,
   "metadata": {},
   "outputs": [
    {
     "data": {
      "text/plain": [
       "<module 'CustomFunctions' from 'd:\\\\Programming\\\\Jupyter Notebook\\\\LangChain\\\\news_fetcher\\\\test\\\\CustomFunctions.py'>"
      ]
     },
     "execution_count": 17,
     "metadata": {},
     "output_type": "execute_result"
    }
   ],
   "source": [
    "import importlib\n",
    "importlib.reload(cf)"
   ]
  },
  {
   "cell_type": "markdown",
   "metadata": {},
   "source": [
    "### load doc"
   ]
  },
  {
   "cell_type": "markdown",
   "metadata": {},
   "source": [
    "#### load url"
   ]
  },
  {
   "cell_type": "code",
   "execution_count": 22,
   "metadata": {},
   "outputs": [],
   "source": [
    "loader = WebBaseLoader(\"https://www.espn.com/\")\n",
    "doc = loader.load()"
   ]
  },
  {
   "cell_type": "code",
   "execution_count": 21,
   "metadata": {},
   "outputs": [
    {
     "name": "stdout",
     "output_type": "stream",
     "text": [
      "\n",
      "\n",
      "ESPN - Serving Sports Fans. Anytime. Anywhere.\n",
      "\n",
      "        Skip to main content\n",
      "    \n",
      "        Skip to navigation\n",
      "    \n",
      "<\n",
      "\n",
      ">\n",
      "\n",
      "MenuESPN\n",
      "\n",
      "Search\n",
      "\n",
      "scores\n",
      "\n",
      "NFLMLBNCAAFNBANHLSoccer…LLWSFIBANCAAMNCAAWSports\n",
      "BettingBoxingCFLNCAACricketF1GolfHorseMMANASCARNBA G LeagueOlympic SportsPLLRacingRN\n",
      "BBRN FBRugbyTennisWNBAWWEX GamesXFLMore ESPNFantasyListenWatchESPN+\n",
      "\n",
      "  SUBSCRIBE NOW\n",
      "\n",
      "UFC Fight Night: Holloway vs. The Korean Zombie\n",
      "\n",
      "PGA TOUR LIVE: TOUR Championship\n",
      "\n",
      "FIBA World Cup\n",
      "\n",
      "MLB: Select Games\n",
      "\n",
      "US Open: Qualifying\n",
      "\n",
      "Premier Lacrosse League\n",
      "\n",
      "Fantasy Football: Cheat Sheet\n",
      "\n",
      "Quick Links\n",
      "\n",
      "FIBA World Cup\n",
      "\n",
      "Little League World Series\n",
      "\n",
      "MLB Standings\n",
      "\n",
      "NHL Free Agency\n",
      "\n",
      "NBA Trade Machine\n",
      "\n",
      "Fantasy Football: Sign Up\n",
      "\n",
      "How To Watch PGA TOUR\n",
      "\n",
      "Favorites\n",
      "\n",
      "      Manage Favorites\n",
      "      \n",
      "Customize ESPNSign UpLog InESPN Sites\n",
      "\n",
      "ESPN Deportes\n",
      "\n",
      "Andscape\n",
      "\n",
      "espnW\n",
      "\n",
      "ESPNFC\n",
      "\n",
      "X Games\n",
      "\n",
      "SEC Network\n",
      "\n",
      "ESPN Apps\n",
      "\n",
      "ESPN\n",
      "\n",
      "ESPN Fantasy\n",
      "\n",
      "Follow ESPN\n",
      "\n",
      "Facebook\n",
      "\n",
      "X/Twitter\n",
      "\n",
      "Instagram\n",
      "\n",
      "Snapchat\n",
      "\n",
      "TikTok\n",
      "\n",
      "YouTube\n",
      "\n",
      "Preseason\n",
      "bowl projections: Matchups for every game, including the CFPCollege football\n",
      "season is just about to kick off, but it's never too early to start thinking\n",
      "about the bowls. Here are our picks for all 43 matchups.3dKyle Bonagura\n",
      "and Mark SchlabachBrian Rothmuller/Icon SportswireInside USC's quest to\n",
      "build a championship-caliber roster around its Heisman-winning QBThe Trojans\n",
      "have rebuilt their defense and harnessed new talent to win in what is likely\n",
      "Caleb Williams' last season.23hPaolo UggettiScouts on Caleb Williams, Drake\n",
      "Maye: comparisons, NFL expectations, what to watchWeek 0 games: Schedule,\n",
      "channels, moreTOP HEADLINES'Time to move on': 49ers deal QB Lance to DallasPolice:\n",
      "Two hurt in shooting at White Sox gameTests reveal Bronny has congenital\n",
      "heart defectPanthers' Young throws 1st TD, ready for openerMartino: Messi\n",
      "a doubt to make MLS debut Sat.Fan-interference decision costs Pham possible\n",
      "HR'Thankful' Betts receives long ovation in BostonBiles wows on vault, leads\n",
      "U.S. championshipsFantasy football cheat sheet, draft tipsCOLLEGE FOOTBALL\n",
      "SCOREBOARDSATURDAY'S GAMESSee AllUFC Singapore: The 4 biggest storylines\n",
      "ahead of Max Holloway's all-action returnHolloway and 'Korean Zombie' Chan\n",
      "Sung Jung headline a Saturday morning card featuring a possible women's\n",
      "title eliminator.23hMarc RaimondiJosh Hedges/Zuffa LLC via Getty ImagesExpert\n",
      "picks and best bets: Max Holloway vs. Chan Sung JungWho has the edge in\n",
      "this week's UFC Fight Night? MMA coaches and betting insiders make their\n",
      "picks.2dESPNFIBA WORLD CUPSTREAM EVERY GAME ON ESPN+Who are the 15 most\n",
      "interesting players to watch at the 2023 FIBA World Cup?Who are the top\n",
      "15 World Cup players to watch at the 2023 FIBA World Cup? It expands further\n",
      "than Team USA and Canada.21hJonathan Givony and Kevin PeltonPhoto by Joe\n",
      "Murphy/NBAE via Getty ImagesFull coverage of FIBA World CupFIBA WORLD CUP\n",
      "SCOREBOARDSATURDAY'S GAMESSee AllFIBA World Cup standingsFIBA World Cup:\n",
      "Schedule, news and Team USA rosterFRIDAY PRESEASON ACTIONBryce Young's first\n",
      "preseason TD pass comes on 16-yard beauty to Adam Thielen6h0:32Brock Purdy\n",
      "scampers into end zone for rushing TD6h0:16NFL PRESEASON SCORESFRIDAY'S\n",
      "GAMESNFL PRESEASONProjecting the final 53-man rosters for every team that's\n",
      "completed its preseasonNFL teams must cut their rosters to 53 players by\n",
      "4 p.m. ET Tuesday. Our reporters predict who stays and who goes.6hNFL Nation\n",
      "reportersEric Canha-USA TODAY SportsPreseason report cards for every single\n",
      "rookie selected in the NFL draftFrom No. 1 to No. 259, our NFL Nation reporters\n",
      "assess every rookie from April's draft.1dNFL Nation reportersThree trades\n",
      "in one day?! What each deal says about Cardinals' present and futureSADDLE\n",
      "UP, COWBOY!DALLAS ACQUIRES FORMER FIRST-ROUND QBBarnwell: How the 49ers\n",
      "got it wrong with Trey Lance, and why the QB's fit in Dallas is confusingThe\n",
      "49ers' 2021 trade for Trey Lance can now be considered a disaster.10hBill\n",
      "BarnwellPhoto by Kyle Terada/USA TODAY SportsHow the Cowboys' trade for\n",
      "Trey Lance impacts Dak PrescottWhat does Friday's trade for the former first-round\n",
      "pick mean for Prescott this season and beyond?6hTodd ArcherTracking every\n",
      "NFL preseason trade Top Headlines'Time to move on': 49ers deal QB Lance\n",
      "to DallasPolice: Two hurt in shooting at White Sox gameTests reveal Bronny\n",
      "has congenital heart defectPanthers' Young throws 1st TD, ready for openerMartino:\n",
      "Messi a doubt to make MLS debut Sat.Fan-interference decision costs Pham\n",
      "possible HR'Thankful' Betts receives long ovation in BostonBiles wows on\n",
      "vault, leads U.S. championshipsFantasy football cheat sheet, draft tipsFavorites\n",
      "FantasyManage FavoritesFantasy HomeCustomize ESPNSign UpLog InDonate To\n",
      "Red CrossRed CrossDonate to the Red CrossHelp people affected by the Hawaii\n",
      "wildfires. Please visit redcross.org/espn to help the Red Cross respond.\n",
      "ICYMI0:22Anthony Richardson uses 'Fly Eagles Fly' celebration after Colts'\n",
      "TDAnthony Richardson pretends to fly after Deon Jackson's 3-yard, game-tying\n",
      "touchdown. Best of ESPN+Photo by Christian Petersen/Getty ImagesPredicting\n",
      "four NFL teams likely to improve in 2023 seasonWill Russell Wilson and the\n",
      "Broncos rebound in 2023? Here's why four teams could take a step forward\n",
      "and win more games.(AP Photo/Matt Slocum)NBA predictions 2023-24: Biggest\n",
      "turnarounds, most dysfunctional teams and all the burning questionsWhich\n",
      "NBA teams are headed for sudden rises and dramatic falls? Which superstar\n",
      "will request a trade next? ESPN's Summer Forecast begins by answering the\n",
      "most pressing questions going into the 2023-2024 NBA season.Alika Jenner/Getty\n",
      "ImagesKiley McDaniel's updated MLB farm system rankingsThe MLB draft is\n",
      "in the books, and the trade deadline has come and gone. Which club sits\n",
      "atop the new rankings?Tim Warner/Getty ImagesFantasy football Ultimate Draft\n",
      "Board: Perfect picks for every roundThings rarely go exactly as planned\n",
      "in fantasy football drafts, but Mike Clay provides a realistic blueprint\n",
      "to follow, including his ideal selections in each round and overall draft\n",
      "strategy for 2023. Trending NowIllustrations by Rafa AlvarezHow Chuck Norris\n",
      "Facts gave birth to the modern memeChuck Norris was a karate legend, then\n",
      "an action star, and then ... memes. So many memes. This is the hilarious\n",
      "story of how Chuck Norris Facts melted the internet in 2005 and how its\n",
      "creator is now using AI to shake up the world in even bigger ways.John Munson/AP2023\n",
      "NFL rookie QB report: How have the top five fared?Updates on Bryce Young,\n",
      "C.J. Stroud, Anthony Richardson, Will Levis and Hendon Hooker after two\n",
      "preseason games, plus what's next for each.Steph Chambers/Getty ImagesAs\n",
      "Ohtani's free agency looms, Moreno's Angels at crossroadsAfter going all-in,\n",
      "L.A. looks poised for another playoff-free October -- and the potential\n",
      "loss of a once-in-a-lifetime superstar.Kelley L Cox/USA TODAY SportsFantasy\n",
      "football draft rankings for 2023 PPR and non-PPR leaguesESPN fantasy analysts\n",
      "reveal their fantasy football rankings for the 2023 season, position by\n",
      "position, for both PPR and non-PPR leagues. How to Watch on ESPN+(AP Photo/Koji\n",
      "Sasahara, File)How to watch the PGA Tour, Masters, PGA Championship and\n",
      "FedEx Cup playoffs on ESPN, ESPN+Here's everything you need to know about\n",
      "how to watch the PGA Tour, Masters, PGA Championship and FedEx Cup playoffs\n",
      "on ESPN and ESPN+. Sign up to play the #1 Fantasy game!Create A LeagueJoin\n",
      "Public LeagueReactivateMock Draft NowSign up for FREE!Create A LeagueJoin\n",
      "a Public LeagueReactivate a LeaguePractice With a Mock DraftSign up for\n",
      "FREE!Create A LeagueJoin a Public LeagueReactivate a LeaguePractice with\n",
      "a Mock Draft\n",
      "\n",
      "ESPN+\n",
      "\n",
      "UFC Fight Night: Holloway vs. The Korean Zombie\n",
      "\n",
      "PGA TOUR LIVE: TOUR Championship\n",
      "\n",
      "FIBA World Cup\n",
      "\n",
      "MLB: Select Games\n",
      "\n",
      "US Open: Qualifying\n",
      "\n",
      "Premier Lacrosse League\n",
      "\n",
      "Fantasy Football: Cheat Sheet\n",
      "\n",
      "Quick Links\n",
      "\n",
      "FIBA World Cup\n",
      "\n",
      "Little League World Series\n",
      "\n",
      "MLB Standings\n",
      "\n",
      "NHL Free Agency\n",
      "\n",
      "NBA Trade Machine\n",
      "\n",
      "Fantasy Football: Sign Up\n",
      "\n",
      "How To Watch PGA TOUR\n",
      "\n",
      "ESPN Sites\n",
      "\n",
      "ESPN Deportes\n",
      "\n",
      "Andscape\n",
      "\n",
      "espnW\n",
      "\n",
      "ESPNFC\n",
      "\n",
      "X Games\n",
      "\n",
      "SEC Network\n",
      "\n",
      "ESPN Apps\n",
      "\n",
      "ESPN\n",
      "\n",
      "ESPN Fantasy\n",
      "\n",
      "Follow ESPN\n",
      "\n",
      "Facebook\n",
      "\n",
      "X/Twitter\n",
      "\n",
      "Instagram\n",
      "\n",
      "Snapchat\n",
      "\n",
      "TikTok\n",
      "\n",
      "YouTube\n",
      "\n",
      "Terms of UsePrivacy PolicyInterest-Based Ads© ESPN Enterprises, Inc. All rights\n",
      "reserved.\n",
      "\n",
      " reserved.\n",
      "\n",
      " \n"
     ]
    }
   ],
   "source": [
    "cf.print_str_as_blocks(cf.remove_extra_lines(doc[0].page_content))"
   ]
  },
  {
   "cell_type": "markdown",
   "metadata": {},
   "source": [
    "#### load pdf"
   ]
  },
  {
   "cell_type": "code",
   "execution_count": null,
   "metadata": {},
   "outputs": [],
   "source": []
  },
  {
   "cell_type": "markdown",
   "metadata": {},
   "source": [
    "#### load text"
   ]
  },
  {
   "cell_type": "code",
   "execution_count": 38,
   "metadata": {},
   "outputs": [],
   "source": [
    "from langchain.docstore.document import Document\n",
    "\n",
    "doc =  Document(page_content=\"text\", metadata={\"source\": \"local\"})"
   ]
  },
  {
   "cell_type": "code",
   "execution_count": 39,
   "metadata": {},
   "outputs": [
    {
     "data": {
      "text/plain": [
       "Document(page_content='text', metadata={'source': 'local'})"
      ]
     },
     "execution_count": 39,
     "metadata": {},
     "output_type": "execute_result"
    }
   ],
   "source": [
    "doc"
   ]
  },
  {
   "cell_type": "markdown",
   "metadata": {},
   "source": [
    "### clean doc"
   ]
  },
  {
   "cell_type": "code",
   "execution_count": 35,
   "metadata": {},
   "outputs": [
    {
     "data": {
      "text/plain": [
       "\"\\n\\nESPN - Serving Sports Fans. Anytime. Anywhere.\\n\\n        Skip to main content\\n    \\n        Skip to navigation\\n    \\n<\\n\\n>\\n\\nMenuESPN\\n\\nSearch\\n\\nscores\\n\\nNFLMLBNCAAFNBANHLSoccer…LLWSFIBANCAAMNCAAWSports BettingBoxingCFLNCAACricketF1GolfHorseMMANASCARNBA G LeagueOlympic SportsPLLRacingRN BBRN FBRugbyTennisWNBAWWEX GamesXFLMore ESPNFantasyListenWatchESPN+\\n\\n  SUBSCRIBE NOW\\n\\nUFC Fight Night: Holloway vs. The Korean Zombie\\n\\nPGA TOUR LIVE: TOUR Championship\\n\\nLALIGA\\n\\nBundesliga\\n\\nFIBA World Cup\\n\\nMLB: Select Games\\n\\nUS Open: Qualifying\\n\\nPremier Lacrosse League\\n\\nFantasy Football: Cheat Sheet\\n\\nQuick Links\\n\\nFIBA World Cup\\n\\nLittle League World Series\\n\\nMLB Standings\\n\\nNHL Free Agency\\n\\nNBA Trade Machine\\n\\nFantasy Football: Sign Up\\n\\nHow To Watch PGA TOUR\\n\\nFavorites\\n\\n      Manage Favorites\\n      \\nCustomize ESPNSign UpLog InESPN Sites\\n\\nESPN Deportes\\n\\nAndscape\\n\\nespnW\\n\\nESPNFC\\n\\nX Games\\n\\nSEC Network\\n\\nESPN Apps\\n\\nESPN\\n\\nESPN Fantasy\\n\\nFollow ESPN\\n\\nFacebook\\n\\nX/Twitter\\n\\nInstagram\\n\\nSnapchat\\n\\nTikTok\\n\\nYouTube\\n\\nPreseason bowl projections: Matchups for every game, including the CFPCollege football season is just about to kick off, but it's never too early to start thinking about the bowls. Here are our picks for all 43 matchups.3dKyle Bonagura and Mark SchlabachBrian Rothmuller/Icon SportswireInside USC's quest to build a championship-caliber roster around its Heisman-winning QBThe Trojans have rebuilt their defense and harnessed new talent to win in what is likely Caleb Williams' last season.23hPaolo UggettiScouts on Caleb Williams, Drake Maye: comparisons, NFL expectations, what to watchWeek 0 games: Schedule, channels, moreTOP HEADLINES'Time to move on': 49ers deal QB Lance to DallasPolice: Two hurt in shooting at White Sox gameTests reveal Bronny has congenital heart defectPanthers' Young throws 1st TD, ready for openerMartino: Messi a doubt to make MLS debut Sat.Fan-interference decision costs Pham possible HR'Thankful' Betts receives long ovation in BostonBiles wows on vault, leads U.S. championshipsFantasy football cheat sheet, draft tipsCOLLEGE FOOTBALL SCOREBOARDSATURDAY'S GAMESSee AllUFC Singapore: The 4 biggest storylines ahead of Max Holloway's all-action returnHolloway and 'Korean Zombie' Chan Sung Jung headline a Saturday morning card featuring a possible women's title eliminator.23hMarc RaimondiJosh Hedges/Zuffa LLC via Getty ImagesExpert picks and best bets: Max Holloway vs. Chan Sung JungWho has the edge in this week's UFC Fight Night? MMA coaches and betting insiders make their picks.2dESPNFIBA WORLD CUPSTREAM EVERY GAME ON ESPN+Who are the 15 most interesting players to watch at the 2023 FIBA World Cup?Who are the top 15 World Cup players to watch at the 2023 FIBA World Cup? It expands further than Team USA and Canada.21hJonathan Givony and Kevin PeltonPhoto by Joe Murphy/NBAE via Getty ImagesFull coverage of FIBA World CupFIBA WORLD CUP SCOREBOARDSATURDAY'S GAMESSee AllFIBA World Cup standingsFIBA World Cup: Schedule, news and Team USA rosterFRIDAY PRESEASON ACTIONBryce Young's first preseason TD pass comes on 16-yard beauty to Adam Thielen6h0:32Brock Purdy scampers into end zone for rushing TD6h0:16NFL PRESEASON SCORESFRIDAY'S GAMESNFL PRESEASONProjecting the final 53-man rosters for every team that's completed its preseasonNFL teams must cut their rosters to 53 players by 4 p.m. ET Tuesday. Our reporters predict who stays and who goes.6hNFL Nation reportersEric Canha-USA TODAY SportsPreseason report cards for every single rookie selected in the NFL draftFrom No. 1 to No. 259, our NFL Nation reporters assess every rookie from April's draft.1dNFL Nation reportersThree trades in one day?! What each deal says about Cardinals' present and futureSADDLE UP, COWBOY!DALLAS ACQUIRES FORMER FIRST-ROUND QBBarnwell: How the 49ers got it wrong with Trey Lance, and why the QB's fit in Dallas is confusingThe 49ers' 2021 trade for Trey Lance can now be considered a disaster.10hBill BarnwellPhoto by Kyle Terada/USA TODAY SportsHow the Cowboys' trade for Trey Lance impacts Dak PrescottWhat does Friday's trade for the former first-round pick mean for Prescott this season and beyond?6hTodd ArcherTracking every NFL preseason trade Top Headlines'Time to move on': 49ers deal QB Lance to DallasPolice: Two hurt in shooting at White Sox gameTests reveal Bronny has congenital heart defectPanthers' Young throws 1st TD, ready for openerMartino: Messi a doubt to make MLS debut Sat.Fan-interference decision costs Pham possible HR'Thankful' Betts receives long ovation in BostonBiles wows on vault, leads U.S. championshipsFantasy football cheat sheet, draft tipsFavorites FantasyManage FavoritesFantasy HomeCustomize ESPNSign UpLog InDonate To Red CrossRed CrossDonate to the Red CrossHelp people affected by the Hawaii wildfires. Please visit redcross.org/espn to help the Red Cross respond. ICYMI0:22Anthony Richardson uses 'Fly Eagles Fly' celebration after Colts' TDAnthony Richardson pretends to fly after Deon Jackson's 3-yard, game-tying touchdown. Best of ESPN+Photo by Christian Petersen/Getty ImagesPredicting four NFL teams likely to improve in 2023 seasonWill Russell Wilson and the Broncos rebound in 2023? Here's why four teams could take a step forward and win more games.(AP Photo/Matt Slocum)NBA predictions 2023-24: Biggest turnarounds, most dysfunctional teams and all the burning questionsWhich NBA teams are headed for sudden rises and dramatic falls? Which superstar will request a trade next? ESPN's Summer Forecast begins by answering the most pressing questions going into the 2023-2024 NBA season.Alika Jenner/Getty ImagesKiley McDaniel's updated MLB farm system rankingsThe MLB draft is in the books, and the trade deadline has come and gone. Which club sits atop the new rankings?Tim Warner/Getty ImagesFantasy football Ultimate Draft Board: Perfect picks for every roundThings rarely go exactly as planned in fantasy football drafts, but Mike Clay provides a realistic blueprint to follow, including his ideal selections in each round and overall draft strategy for 2023. Trending NowIllustrations by Rafa AlvarezHow Chuck Norris Facts gave birth to the modern memeChuck Norris was a karate legend, then an action star, and then ... memes. So many memes. This is the hilarious story of how Chuck Norris Facts melted the internet in 2005 and how its creator is now using AI to shake up the world in even bigger ways.John Munson/AP2023 NFL rookie QB report: How have the top five fared?Updates on Bryce Young, C.J. Stroud, Anthony Richardson, Will Levis and Hendon Hooker after two preseason games, plus what's next for each.Steph Chambers/Getty ImagesAs Ohtani's free agency looms, Moreno's Angels at crossroadsAfter going all-in, L.A. looks poised for another playoff-free October -- and the potential loss of a once-in-a-lifetime superstar.Kelley L Cox/USA TODAY SportsFantasy football draft rankings for 2023 PPR and non-PPR leaguesESPN fantasy analysts reveal their fantasy football rankings for the 2023 season, position by position, for both PPR and non-PPR leagues. How to Watch on ESPN+(AP Photo/Koji Sasahara, File)How to watch the PGA Tour, Masters, PGA Championship and FedEx Cup playoffs on ESPN, ESPN+Here's everything you need to know about how to watch the PGA Tour, Masters, PGA Championship and FedEx Cup playoffs on ESPN and ESPN+. Sign up to play the #1 Fantasy game!Create A LeagueJoin Public LeagueReactivateMock Draft NowSign up for FREE!Create A LeagueJoin a Public LeagueReactivate a LeaguePractice With a Mock DraftSign up for FREE!Create A LeagueJoin a Public LeagueReactivate a LeaguePractice with a Mock Draft\\n\\nESPN+\\n\\nUFC Fight Night: Holloway vs. The Korean Zombie\\n\\nPGA TOUR LIVE: TOUR Championship\\n\\nFIBA World Cup\\n\\nMLB: Select Games\\n\\nUS Open: Qualifying\\n\\nPremier Lacrosse League\\n\\nFantasy Football: Cheat Sheet\\n\\nQuick Links\\n\\nFIBA World Cup\\n\\nLittle League World Series\\n\\nMLB Standings\\n\\nNHL Free Agency\\n\\nNBA Trade Machine\\n\\nFantasy Football: Sign Up\\n\\nHow To Watch PGA TOUR\\n\\nESPN Sites\\n\\nESPN Deportes\\n\\nAndscape\\n\\nespnW\\n\\nESPNFC\\n\\nX Games\\n\\nSEC Network\\n\\nESPN Apps\\n\\nESPN\\n\\nESPN Fantasy\\n\\nFollow ESPN\\n\\nFacebook\\n\\nX/Twitter\\n\\nInstagram\\n\\nSnapchat\\n\\nTikTok\\n\\nYouTube\\n\\nTerms of UsePrivacy PolicyInterest-Based Ads© ESPN Enterprises, Inc. All rights reserved.\\n\\n\""
      ]
     },
     "execution_count": 35,
     "metadata": {},
     "output_type": "execute_result"
    }
   ],
   "source": [
    "doc[0].page_content = cf.remove_extra_lines(doc[0].page_content)\n",
    "doc[0].page_content"
   ]
  },
  {
   "cell_type": "markdown",
   "metadata": {},
   "source": [
    "### split docs"
   ]
  },
  {
   "cell_type": "code",
   "execution_count": 23,
   "metadata": {},
   "outputs": [],
   "source": [
    "from langchain.text_splitter import RecursiveCharacterTextSplitter"
   ]
  },
  {
   "cell_type": "code",
   "execution_count": 29,
   "metadata": {},
   "outputs": [],
   "source": [
    "text_splitter = RecursiveCharacterTextSplitter(\n",
    "    # Set a really small chunk size, just to show.\n",
    "    chunk_size = 100,\n",
    "    chunk_overlap  = 20,\n",
    "    length_function = len\n",
    ")"
   ]
  },
  {
   "cell_type": "code",
   "execution_count": 37,
   "metadata": {},
   "outputs": [
    {
     "name": "stdout",
     "output_type": "stream",
     "text": [
      "page_content='ESPN - Serving Sports Fans. Anytime. Anywhere.' metadata={'source': 'https://www.espn.com/', 'title': 'ESPN - Serving Sports Fans. Anytime. Anywhere.', 'description': 'Visit ESPN for live scores, highlights and sports news. Stream exclusive games on ESPN+ and play fantasy sports.', 'language': 'en'}\n",
      "page_content='Skip to main content\\n    \\n        Skip to navigation\\n    \\n<\\n\\n>\\n\\nMenuESPN\\n\\nSearch\\n\\nscores' metadata={'source': 'https://www.espn.com/', 'title': 'ESPN - Serving Sports Fans. Anytime. Anywhere.', 'description': 'Visit ESPN for live scores, highlights and sports news. Stream exclusive games on ESPN+ and play fantasy sports.', 'language': 'en'}\n"
     ]
    }
   ],
   "source": [
    "docs = text_splitter.split_documents(doc)\n",
    "print(docs[0])\n",
    "print(docs[1])"
   ]
  }
 ],
 "metadata": {
  "kernelspec": {
   "display_name": "myenv",
   "language": "python",
   "name": "python3"
  },
  "language_info": {
   "codemirror_mode": {
    "name": "ipython",
    "version": 3
   },
   "file_extension": ".py",
   "mimetype": "text/x-python",
   "name": "python",
   "nbconvert_exporter": "python",
   "pygments_lexer": "ipython3",
   "version": "3.9.17"
  },
  "orig_nbformat": 4
 },
 "nbformat": 4,
 "nbformat_minor": 2
}
