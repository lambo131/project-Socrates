{
 "cells": [
  {
   "cell_type": "markdown",
   "metadata": {},
   "source": [
    "### ContentGenerator class testing"
   ]
  },
  {
   "cell_type": "markdown",
   "metadata": {},
   "source": [
    "import"
   ]
  },
  {
   "cell_type": "code",
   "execution_count": 26,
   "metadata": {},
   "outputs": [],
   "source": [
    "import sys\n",
    "sys.path.insert(1, \"D:\\\\Programming\\\\Jupyter Notebook\\\\LangChain\\\\news_fetcher\\\\libs\")\n",
    "import ContentGenerator as cg\n",
    "import CustomFunctions"
   ]
  },
  {
   "cell_type": "code",
   "execution_count": 17,
   "metadata": {},
   "outputs": [
    {
     "data": {
      "text/plain": [
       "<module 'ContentGenerator' from 'D:\\\\Programming\\\\Jupyter Notebook\\\\LangChain\\\\news_fetcher\\\\libs\\\\ContentGenerator.py'>"
      ]
     },
     "execution_count": 17,
     "metadata": {},
     "output_type": "execute_result"
    }
   ],
   "source": [
    "import importlib\n",
    "importlib.reload(cg)"
   ]
  },
  {
   "cell_type": "markdown",
   "metadata": {},
   "source": [
    "#### Get example docs"
   ]
  },
  {
   "cell_type": "code",
   "execution_count": 4,
   "metadata": {},
   "outputs": [],
   "source": [
    "from langchain.document_loaders import TextLoader\n",
    "from langchain.text_splitter import RecursiveCharacterTextSplitter\n",
    "loader = TextLoader(\"../rsc/article_1.txt\")\n",
    "article = loader.load()\n",
    "text_splitter = RecursiveCharacterTextSplitter(\n",
    "    # Set a really small chunk size, just to show.\n",
    "    chunk_size = 500,\n",
    "    chunk_overlap  = 20,\n",
    "    length_function = len,\n",
    ")\n",
    "docs = text_splitter.split_documents(article)"
   ]
  },
  {
   "cell_type": "code",
   "execution_count": 5,
   "metadata": {},
   "outputs": [],
   "source": [
    "# load content to skip api calls\n",
    "import pickle\n",
    "with open('../rsc/main_ideas_list.pkl', 'rb') as f:\n",
    "    main_ideas_list = pickle.load(f)\n",
    "with open('../rsc/short_summary.pkl', 'rb') as f:\n",
    "    short_summary = pickle.load(f)"
   ]
  },
  {
   "cell_type": "code",
   "execution_count": 6,
   "metadata": {},
   "outputs": [
    {
     "name": "stdout",
     "output_type": "stream",
     "text": [
      "[Document(page_content='The Ocean Cleanup, the international non-profit project with the mission of ridding the world’s oceans of plastic, today signed an agreement with the Ministry of Public Works and Housing, the Government of Tangerang Regency, the Coordinating Ministry for Maritime and Investment Affairs, and the Dutch Government. This moment kicks off the planned deployment of an Interceptor™ Original to capture plastic in the Cisadane River in Indonesia. The new deployment, designated Interceptor 020, is', metadata={'source': '../rsc/article_1.txt'}), Document(page_content='Interceptor 020, is scheduled for deployment before the end of 2023.', metadata={'source': '../rsc/article_1.txt'}), Document(page_content='Interceptor 020 will contribute to tackling the estimated 1000 tons of plastic emitted via the Cisadane into the Java Sea each year. It will be the second Interceptor deployed in Indonesia after Interceptor 001, deployed in the Cengkareng Drain, Jakarta, in 2018. Both deployments demonstrate The Ocean Cleanup’s commitment to tackling the plastic pollution problem in Indonesia and Southeast Asia alongside our vital national and local partners and operators.', metadata={'source': '../rsc/article_1.txt'}), Document(page_content='The Cisadane River is high on the list of priority rivers for Indonesian authorities and for The Ocean Cleanup, particularly in light of the Joint Declaration agreed as part of Indonesia’s hosting of the G20 Summit in 2022. Interceptor 020 marks another step in our mission to intercept 80% of plastic leakage into our oceans worldwide and to help Indonesia meet its goals to reduce marine plastic debris by 70% in 2025.', metadata={'source': '../rsc/article_1.txt'}), Document(page_content='The Interceptor Original forms part of The Ocean Cleanup’s expanding portfolio of scalable and sustainable solutions for removing plastic from rivers worldwide. 100% solar powered and capable of autonomous plastic extraction, the Interceptor Original extracts plastic flowing with the river and deposits it into six dumpsters on a floating barge inside the system. Once filled up, local operators empty the dumpsters and send the plastic for on-shore processing. Interceptor Originals are currently', metadata={'source': '../rsc/article_1.txt'}), Document(page_content='are currently deployed in Indonesia, Malaysia, Vietnam, Dominican Republic, and the United States and, to date, have prevented over 2 million kilograms of trash from reaching our oceans worldwide. Our Interceptor portfolio also includes the experimental Interceptor Trashfence (trialed in Guatemala last year) and the Interceptor Barrier and Interceptor Tender, both currently operational in Jamaica. Research continues into new Interceptor designs to pursue our mission of tackling plastic in', metadata={'source': '../rsc/article_1.txt'}), Document(page_content='tackling plastic in rivers in all conditions and environments.', metadata={'source': '../rsc/article_1.txt'}), Document(page_content='The deployment of Interceptor 020 involves collaboration with partners BBWS Cilliwung-Cisadane (mandator), Tangerang Regency – DLHK (operator and waste transporter), and Tanjung Burung Waste Bank (waste sorter). We extend our thanks to all partners, as well as the Governments of Indonesia and the Netherlands, especially the Coordinating Ministry for Maritime and Investment Affairs, and the Ministry of Public Works and Housing, for helping to facilitate our collaboration at international level.', metadata={'source': '../rsc/article_1.txt'}), Document(page_content='The deployment of Interceptor 020 is part of the Global Implementation Partnership with The Coca-Cola Company. We are also thankful for the financial support of True Ventures and ThatGameCompany for enabling us to initiate this project.', metadata={'source': '../rsc/article_1.txt'})]\n",
      "['The Ocean Cleanup signed an agreement with the Ministry of Public Works and Housing, the Government of Tangerang Regency, the Coordinating Ministry for Maritime and Investment Affairs, and the Dutch Government.', 'The agreement kicks off the planned deployment of Interceptor™ Original to capture plastic in the Cisadane River in Indonesia.', 'Interceptor 020 is scheduled for deployment before the end of 2023.', 'Interceptor 020 will help tackle the estimated 1000 tons of plastic emitted via the Cisadane River into the Java Sea each year.', 'It will be the second Interceptor deployed in Indonesia, following Interceptor 001 deployed in Jakarta in 2018.', \"The Cisadane River is a priority river for Indonesian authorities and The Ocean Cleanup, especially in light of the Joint Declaration agreed as part of Indonesia's hosting of the G20 Summit in 2022.\", 'Interceptor 020 is another step towards intercepting 80% of plastic leakage into oceans worldwide and helping Indonesia reduce marine plastic debris by 70% in 2025.', \"The Interceptor Original is part of The Ocean Cleanup's scalable and sustainable solutions for removing plastic from rivers worldwide.\", 'It is 100% solar powered and capable of autonomous plastic extraction.', 'The Interceptor Original extracts plastic from the river and deposits it into six dumpsters on a floating barge, which are then emptied by local operators for on-shore processing.', 'Interceptor Originals are currently deployed in Indonesia, Malaysia, Vietnam, Dominican Republic, and the United States, preventing over 2 million kilograms of trash from reaching the oceans.', 'The deployment of Interceptor 020 involves collaboration with partners BBWS Cilliwung-Cisadane, Tangerang Regency - DLHK, and Tanjung Burung Waste Bank.', 'The deployment is part of the Global Implementation Partnership with The Coca-Cola Company.', 'Financial support for the project was provided by True Ventures and ThatGameCompany.']\n",
      "The Ocean Cleanup has signed an agreement with various government entities to deploy Interceptor™ Original in the Cisadane River in Indonesia. Interceptor 020 is scheduled to be deployed by the end of 2023 and will help capture the estimated 1000 tons of plastic that enters the Java Sea each year. This will be the second Interceptor deployed in Indonesia, following Interceptor 001 in Jakarta in 2018. The Cisadane River is a priority river for both Indonesian authorities and The Ocean Cleanup, and the deployment is in line with Indonesia's commitment to reduce marine plastic debris. Interceptor Original is a solar-powered and autonomous solution that extracts plastic from the river and deposits it into dumpsters on a floating barge. The Interceptor Originals have already been deployed in several countries, preventing over 2 million kilograms of trash from reaching the oceans. The deployment of Interceptor 020 involves collaboration with local partners and is part of the Global Implementation Partnership with The Coca-Cola Company. Financial support for the project was provided by True Ventures and ThatGameCompany.\n"
     ]
    }
   ],
   "source": [
    "print(docs)\n",
    "print(main_ideas_list)\n",
    "print(short_summary)"
   ]
  },
  {
   "cell_type": "markdown",
   "metadata": {},
   "source": [
    "#### Code "
   ]
  },
  {
   "cell_type": "code",
   "execution_count": 18,
   "metadata": {},
   "outputs": [
    {
     "name": "stderr",
     "output_type": "stream",
     "text": [
      "c:\\Users\\ASUS\\miniconda3\\envs\\myenv\\lib\\site-packages\\langchain\\llms\\openai.py:172: UserWarning: You are trying to use a chat model. This way of initializing it is no longer supported. Instead, please use: `from langchain.chat_models import ChatOpenAI`\n",
      "  warnings.warn(\n",
      "c:\\Users\\ASUS\\miniconda3\\envs\\myenv\\lib\\site-packages\\langchain\\llms\\openai.py:750: UserWarning: You are trying to use a chat model. This way of initializing it is no longer supported. Instead, please use: `from langchain.chat_models import ChatOpenAI`\n",
      "  warnings.warn(\n"
     ]
    }
   ],
   "source": [
    "content_generator = cg.ContentGenerator()"
   ]
  },
  {
   "cell_type": "code",
   "execution_count": 12,
   "metadata": {},
   "outputs": [
    {
     "name": "stderr",
     "output_type": "stream",
     "text": [
      "c:\\Users\\ASUS\\miniconda3\\envs\\myenv\\lib\\site-packages\\langchain\\chains\\llm.py:275: UserWarning: The predict_and_parse method is deprecated, instead pass an output parser directly to LLMChain.\n",
      "  warnings.warn(\n"
     ]
    }
   ],
   "source": [
    "main_ideas = content_generator.get_main_ideas(docs)"
   ]
  },
  {
   "cell_type": "code",
   "execution_count": 14,
   "metadata": {},
   "outputs": [],
   "source": [
    "short_summary = content_generator.get_short_summary(main_ideas)"
   ]
  },
  {
   "cell_type": "code",
   "execution_count": 19,
   "metadata": {},
   "outputs": [],
   "source": [
    "explore_questions = content_generator.get_explore_questions(short_summary,main_ideas[1])"
   ]
  },
  {
   "cell_type": "code",
   "execution_count": 22,
   "metadata": {},
   "outputs": [],
   "source": [
    "critical_questions = content_generator.get_critical_questions(short_summary)"
   ]
  },
  {
   "cell_type": "markdown",
   "metadata": {},
   "source": [
    "#### results"
   ]
  },
  {
   "cell_type": "code",
   "execution_count": 29,
   "metadata": {},
   "outputs": [
    {
     "data": {
      "text/plain": [
       "['The Ocean Cleanup signs agreement with multiple government entities for the deployment of an Interceptor™ Original in the Cisadane River in Indonesia.',\n",
       " 'The Interceptor 020 is scheduled to be deployed before the end of 2023.',\n",
       " 'Interceptor 020 will help tackle the estimated 1000 tons of plastic emitted into the Java Sea via the Cisadane River each year.',\n",
       " 'This will be the second Interceptor deployed in Indonesia, following Interceptor 001 deployed in Jakarta in 2018.',\n",
       " \"The deployment of Interceptor 020 is part of The Ocean Cleanup's mission to intercept 80% of plastic leakage into oceans worldwide and help Indonesia reduce marine plastic debris by 70% in 2025.\",\n",
       " 'The Interceptor Original is a solar-powered device that autonomously extracts plastic from rivers and deposits it into dumpsters on a floating barge.',\n",
       " 'Interceptor Originals are currently deployed in several countries and have prevented over 2 million kilograms of trash from reaching oceans.',\n",
       " 'The deployment of Interceptor 020 involves collaboration with several partners, including BBWS Cilliwung-Cisadane, Tangerang Regency, and Tanjung Burung Waste Bank.',\n",
       " 'The project is part of the Global Implementation Partnership with The Coca-Cola Company and has received financial support from True Ventures and ThatGameCompany.']"
      ]
     },
     "execution_count": 29,
     "metadata": {},
     "output_type": "execute_result"
    }
   ],
   "source": [
    "main_ideas"
   ]
  },
  {
   "cell_type": "code",
   "execution_count": 28,
   "metadata": {},
   "outputs": [
    {
     "name": "stdout",
     "output_type": "stream",
     "text": [
      "The Ocean Cleanup has signed an agreement with multiple government entities\n",
      "to deploy an Interceptor™ Original in the Cisadane River in Indonesia. The\n",
      "Interceptor 020 is scheduled to be deployed by the end of 2023 and will\n",
      "help tackle the estimated 1000 tons of plastic that enters the Java Sea\n",
      "through the Cisadane River each year. This will be the second Interceptor\n",
      "deployed in Indonesia, following Interceptor 001 deployed in Jakarta in\n",
      "2018. The deployment of Interceptor 020 is part of The Ocean Cleanup's mission\n",
      "to intercept 80% of plastic leakage into oceans worldwide and help Indonesia\n",
      "reduce marine plastic debris by 70% in 2025. The Interceptor Original is\n",
      "a solar-powered device that autonomously extracts plastic from rivers and\n",
      "deposits it into dumpsters on a floating barge. Interceptor Originals are\n",
      "currently deployed in several countries and have prevented over 2 million\n",
      "kilograms of trash from reaching oceans. The deployment of Interceptor 020\n",
      "involves collaboration with several partners, including BBWS Cilliwung-Cisadane,\n",
      "Tangerang Regency, and Tanjung Burung Waste Bank. The project is part of\n",
      "the Global Implementation Partnership with The Coca-Cola Company and has\n",
      "received financial support from True Ventures and ThatGameCompany. \n"
     ]
    }
   ],
   "source": [
    "CustomFunctions.print_str_as_blocks(short_summary)"
   ]
  },
  {
   "cell_type": "code",
   "execution_count": 24,
   "metadata": {},
   "outputs": [
    {
     "data": {
      "text/plain": [
       "['What is the purpose of deploying the Interceptor 020 in the Cisadane River in Indonesia?',\n",
       " 'How does the Interceptor 020 extract plastic from rivers?',\n",
       " 'What is the significance of deploying Interceptor 020 in reducing marine plastic debris in Indonesia?',\n",
       " 'How many Interceptor Originals are currently deployed in other countries?',\n",
       " 'Who are the financial supporters of the Interceptor 020 deployment project?']"
      ]
     },
     "execution_count": 24,
     "metadata": {},
     "output_type": "execute_result"
    }
   ],
   "source": [
    "explore_questions"
   ]
  },
  {
   "cell_type": "code",
   "execution_count": 23,
   "metadata": {},
   "outputs": [
    {
     "data": {
      "text/plain": [
       "['What evidence is there to support the claim that 1000 tons of plastic enters the Java Sea through the Cisadane River each year?',\n",
       " 'How exactly does the Interceptor Original extract plastic from rivers?',\n",
       " 'What data is available to demonstrate the effectiveness of the Interceptor Original in preventing trash from reaching oceans?',\n",
       " 'What specific financial support has The Ocean Cleanup received from True Ventures and ThatGameCompany?',\n",
       " 'Can you provide more information about the Global Implementation Partnership with The Coca-Cola Company?',\n",
       " 'What measures are in place to ensure that the Interceptor 020 will be successfully deployed by the end of 2023?',\n",
       " 'Has the Interceptor 001 deployed in Jakarta in 2018 been effective in reducing plastic debris in the area?',\n",
       " 'How does The Ocean Cleanup plan to intercept 80% of plastic leakage into oceans worldwide?',\n",
       " 'What is the basis for the goal of reducing marine plastic debris by 70% in Indonesia by 2025?',\n",
       " 'Are there any potential negative environmental impacts associated with the deployment of the Interceptor Original?']"
      ]
     },
     "execution_count": 23,
     "metadata": {},
     "output_type": "execute_result"
    }
   ],
   "source": [
    "critical_questions"
   ]
  }
 ],
 "metadata": {
  "kernelspec": {
   "display_name": "myenv",
   "language": "python",
   "name": "python3"
  },
  "language_info": {
   "codemirror_mode": {
    "name": "ipython",
    "version": 3
   },
   "file_extension": ".py",
   "mimetype": "text/x-python",
   "name": "python",
   "nbconvert_exporter": "python",
   "pygments_lexer": "ipython3",
   "version": "3.9.17"
  },
  "orig_nbformat": 4
 },
 "nbformat": 4,
 "nbformat_minor": 2
}
